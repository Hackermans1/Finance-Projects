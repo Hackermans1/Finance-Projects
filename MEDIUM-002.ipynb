{
 "cells": [
  {
   "cell_type": "markdown",
   "metadata": {},
   "source": [
    "## MEDIUM 002 - Future Values and Ipywidgets"
   ]
  },
  {
   "cell_type": "code",
   "execution_count": 1,
   "metadata": {},
   "outputs": [],
   "source": [
    "# Importing the libraries\n",
    "import numpy as np\n",
    "import numpy_financial as npf\n",
    "import matplotlib.pyplot as plt"
   ]
  },
  {
   "cell_type": "code",
   "execution_count": 2,
   "metadata": {},
   "outputs": [],
   "source": [
    "def fv_cum(value, r, t):\n",
    "    future_value = value*(1+r)**t\n",
    "       \n",
    "    return round(future_value, 2)"
   ]
  },
  {
   "cell_type": "code",
   "execution_count": 3,
   "metadata": {},
   "outputs": [
    {
     "data": {
      "text/plain": [
       "574.35"
      ]
     },
     "execution_count": 3,
     "metadata": {},
     "output_type": "execute_result"
    }
   ],
   "source": [
    "fv_cum(100, .06, 30)"
   ]
  },
  {
   "cell_type": "markdown",
   "metadata": {},
   "source": [
    "### Future Value\n",
    "\n",
    "The numpy financial module  contains a function <b>future value</b>, .fv(rate, nper, pmt, pv), which allows you to calculate the future value of an investment as before with a few simple parameters:\n",
    "\n",
    "* rate: The rate of return of the investment\n",
    "* nper: The lifespan of the investment\n",
    "* pmt: The (fixed) payment at the beginning or end of each period (which is 0 in our example)\n",
    "* pv: The present value of the investment\n",
    "\n",
    "It is important to note that in this function call, you must pass a negative value into the pv parameter if it represents a negative cash flow (cash going out). In other words, if you were to compute the future value of an investment, requiring an up-front cash payment, you would need to pass a negative value to the pv parameter in the .fv() function."
   ]
  },
  {
   "cell_type": "markdown",
   "metadata": {},
   "source": [
    "- Instructions :\n",
    "\n",
    "1. Using Numpy's .fv() function, calculate the future value of a $100 investment returning 7% per year for 2 years \n"
   ]
  },
  {
   "cell_type": "code",
   "execution_count": 4,
   "metadata": {},
   "outputs": [
    {
     "name": "stdout",
     "output_type": "stream",
     "text": [
      "$110.25\n"
     ]
    }
   ],
   "source": [
    "# Calculate investment\n",
    "investment = npf.fv(rate=.05, nper=2, pmt=0, pv=-100)\n",
    "print(\"$\" + str(round(investment, 2)))\n"
   ]
  },
  {
   "cell_type": "markdown",
   "metadata": {},
   "source": [
    "### Different interest rates"
   ]
  },
  {
   "cell_type": "code",
   "execution_count": 5,
   "metadata": {},
   "outputs": [
    {
     "name": "stderr",
     "output_type": "stream",
     "text": [
      "/Users/cristianedesouzadasilva/opt/anaconda3/lib/python3.7/site-packages/numpy_financial/_financial.py:130: RuntimeWarning: invalid value encountered in true_divide\n",
      "  (1 + rate*when)*(temp - 1)/rate)\n"
     ]
    },
    {
     "data": {
      "text/plain": [
       "Text(0.5, 0, 'years')"
      ]
     },
     "execution_count": 5,
     "metadata": {},
     "output_type": "execute_result"
    },
    {
     "data": {
      "image/png": "[encoded data removed]",
      "text/plain": [
       "<Figure size 432x288 with 1 Axes>"
      ]
     },
     "metadata": {
      "needs_background": "light"
     },
     "output_type": "display_data"
    }
   ],
   "source": [
    "figure = figsize=(10,8)\n",
    "y = [npf.fv(rate=np.linspace(0,0.15,num=4), nper=i, pmt=0, pv=-100) for i in range(21)]\n",
    "\n",
    "plt.plot(y)\n",
    "\n",
    "plt.legend([\"r = 0%\", \"r = 5%\",\"r = 10%\" , \"r = 15%\"])\n",
    "\n",
    "plt.ylabel('Future value of $100, dollars')\n",
    "plt.xlabel('years')"
   ]
  },
  {
   "cell_type": "markdown",
   "metadata": {},
   "source": [
    "### Using Ipywidgets"
   ]
  },
  {
   "cell_type": "code",
   "execution_count": 6,
   "metadata": {},
   "outputs": [
    {
     "data": {
      "application/vnd.jupyter.widget-view+json": {
       "model_id": "619130cbad9142a884a6921519930820",
       "version_major": 2,
       "version_minor": 0
      },
      "text/plain": [
       "interactive(children=(FloatSlider(value=0.1, description='rate', max=0.2, step=0.01), Output()), _dom_classes=…"
      ]
     },
     "metadata": {},
     "output_type": "display_data"
    }
   ],
   "source": [
    "import ipywidgets as widgets\n",
    "from IPython.display import display\n",
    "%matplotlib inline\n",
    "\n",
    "def show_fv(rate):\n",
    "    figure = figsize=(10,8)\n",
    "    y = [npf.fv(rate, nper=i, pmt=0, pv=-100) for i in range(21)]\n",
    "\n",
    "    plt.plot(y)\n",
    "\n",
    "    plt.ylabel('Future value of $100, dollars')\n",
    "    plt.xlabel('years')\n",
    "    \n",
    "controls = widgets.interactive(show_fv,rate=(0, .20, .01))\n",
    "display(controls)"
   ]
  },
  {
   "cell_type": "markdown",
   "metadata": {},
   "source": [
    "Descobrir uma maneira de fazer video com as interações."
   ]
  },
  {
   "cell_type": "markdown",
   "metadata": {},
   "source": [
    "### Adjusting Future Values for Inflation\n",
    "\n",
    "You can now put together what you learned in the previous exercises by following a simple methodology:\n",
    "\n",
    "First, forecast the future value of an investment given a rate of return\n",
    "Second, discount the future value of the investment by a projected inflation rate\n",
    "The methodology above will use both the .fv() and .pv() functions to arrive at the projected value of a given investment in today's dollars, adjusted for inflation.\n",
    "\n",
    "- Instructions:\n",
    "\n",
    "1. Calculate the future value of a $10,000 investment returning 8% per year for 10 years using .fv() and assign it to investment_1.\n",
    "\n",
    "2. Calculate the inflation-adjusted present value of investment_1, using an inflation rate of 3% per year and assign it to investment_1_discounted."
   ]
  },
  {
   "cell_type": "code",
   "execution_count": 7,
   "metadata": {},
   "outputs": [
    {
     "name": "stdout",
     "output_type": "stream",
     "text": [
      "Investment 1 will yield a total of $21589.25 in 10 years\n",
      "After adjusting for inflation, investment 1 is worth $16064.43 in today's dollars\n"
     ]
    }
   ],
   "source": [
    "# Calculate investment_1\n",
    "investment_1 = npf.fv(rate=0.08, nper=10, pmt=0, pv=-10000)\n",
    "print(\"Investment 1 will yield a total of $\" + str(round(investment_1, 2)) + \" in 10 years\")\n",
    "\n",
    "# Calculate investment_2\n",
    "investment_1_discounted = npf.pv(rate=0.03, nper=10, pmt=0, fv=investment_1)\n",
    "print(\"After adjusting for inflation, investment 1 is worth $\" + str(round(-investment_1_discounted, 2)) + \" in today's dollars\")"
   ]
  },
  {
   "cell_type": "markdown",
   "metadata": {},
   "source": [
    "### Discounting Cash Flows\n",
    "\n",
    "You can use numpy's net present value function numpy.npv(rate, values) to calculate the net present value of a series of cash flows. You can create these cash flows by using a numpy.array([...]) of values.\n",
    "\n"
   ]
  },
  {
   "cell_type": "code",
   "execution_count": 8,
   "metadata": {},
   "outputs": [
    {
     "name": "stdout",
     "output_type": "stream",
     "text": [
      "Investment 1's net present value is $471.71 in today's dollars\n",
      "Investment 2's net present value is $454.6 in today's dollars\n"
     ]
    }
   ],
   "source": [
    "\n",
    "# Predefined array of cash flows\n",
    "cash_flows = np.array([100, 100, 100, 100, 100])\n",
    "\n",
    "# Calculate investment_1\n",
    "investment_1 = npf.npv(rate=.03, values=cash_flows)\n",
    "print(\"Investment 1's net present value is $\" + str(round(investment_1, 2)) + \" in today's dollars\")\n",
    "\n",
    "# Calculate investment_2\n",
    "investment_2 = npf.npv(rate=.05, values=cash_flows)\n",
    "print(\"Investment 2's net present value is $\" + str(round(investment_2, 2)) + \" in today's dollars\")\n"
   ]
  },
  {
   "cell_type": "markdown",
   "metadata": {},
   "source": [
    "### Initial Project Costs\n",
    "\n",
    "The numpy.npv(rate, values) function is very powerful because it allows you to pass in both positive and negative values.\n",
    "\n",
    "- Instructions:\n",
    "1. Create a numpy array of the cash flow values for project 1, assigning it to cash_flows_1, and then do the same for project 2, assigning the values to cash_flows_2.\n",
    "\n",
    "2. Calculate the net present value of both projects 1 and 2 assuming a 3% inflation rate.\n"
   ]
  },
  {
   "cell_type": "code",
   "execution_count": 9,
   "metadata": {},
   "outputs": [
    {
     "name": "stdout",
     "output_type": "stream",
     "text": [
      "The net present value of Investment 1 is worth $665.54 in today's dollars\n",
      "The net present value of Investment 2 is worth $346.7 in today's dollars\n"
     ]
    }
   ],
   "source": [
    "# Create an array of cash flows for project 1\n",
    "cash_flows_1 = np.array([-250, 100, 200, 300, 400])\n",
    "\n",
    "# Create an array of cash flows for project 2\n",
    "cash_flows_2 = np.array([-250, 300, -250, 300, 300])\n",
    "\n",
    "\n",
    "# Calculate the net present value of project 1\n",
    "investment_1 = npf.npv(rate=0.03, values=cash_flows_1)\n",
    "\n",
    "print(\"The net present value of Investment 1 is worth $\" + str(round(investment_1, 2)) + \" in today's dollars\")\n",
    "\n",
    "# Calculate the net present value of project 2\n",
    "investment_2 = npf.npv(rate=0.03, values=cash_flows_2)\n",
    "print(\"The net present value of Investment 2 is worth $\" + str(round(investment_2, 2)) + \" in today's dollars\")"
   ]
  },
  {
   "cell_type": "markdown",
   "metadata": {},
   "source": [
    "### Diminishing Cash Flows\n",
    "\n",
    "Remember how compounded returns grow rapidly over time? Well, it works in the reverse, too. Compounded discount factors over time will quickly shrink a number towards zero.\n"
   ]
  },
  {
   "cell_type": "code",
   "execution_count": 10,
   "metadata": {},
   "outputs": [
    {
     "name": "stdout",
     "output_type": "stream",
     "text": [
      "Investment 1 is worth $41.2 in today's dollars\n",
      "Investment 2 is worth $22.81 in today's dollars\n"
     ]
    }
   ],
   "source": [
    "# Calculate investment_1\n",
    "investment_1 = npf.pv(rate=.03, nper=30, pmt=0, fv=100)\n",
    "print(\"Investment 1 is worth $\" + str(round(-investment_1, 2)) + \" in today's dollars\")\n",
    "\n",
    "# Calculate investment_2\n",
    "investment_2 = npf.pv(rate=.03, nper=50, pmt=0, fv=100)\n",
    "print(\"Investment 2 is worth $\" + str(round(-investment_2, 2)) + \" in today's dollars\")\n"
   ]
  },
  {
   "cell_type": "code",
   "execution_count": null,
   "metadata": {},
   "outputs": [],
   "source": []
  }
 ],
 "metadata": {
  "kernelspec": {
   "display_name": "Python 3",
   "language": "python",
   "name": "python3"
  },
  "language_info": {
   "codemirror_mode": {
    "name": "ipython",
    "version": 3
   },
   "file_extension": ".py",
   "mimetype": "text/x-python",
   "name": "python",
   "nbconvert_exporter": "python",
   "pygments_lexer": "ipython3",
   "version": "3.7.4"
  },
  "widgets": {
   "application/vnd.jupyter.widget-state+json": {
    "state": {
     "0101ebe1b4ca432780b03d1416cfe731": {
      "model_module": "@jupyter-widgets/base",
      "model_module_version": "1.2.0",
      "model_name": "LayoutModel",
      "state": {}
     },
     "3beaa5b1b3e54f0a9891f5730c66bfd7": {
      "model_module": "@jupyter-widgets/base",
      "model_module_version": "1.2.0",
      "model_name": "LayoutModel",
      "state": {}
     },
     "619130cbad9142a884a6921519930820": {
      "model_module": "@jupyter-widgets/controls",
      "model_module_version": "1.5.0",
      "model_name": "VBoxModel",
      "state": {
       "_dom_classes": [
        "widget-interact"
       ],
       "children": [
        "IPY_MODEL_79dd6acb6b6343ac96f13e988bb12a13",
        "IPY_MODEL_7ebf02243a3348f4b93cee372070487f"
       ],
       "layout": "IPY_MODEL_3beaa5b1b3e54f0a9891f5730c66bfd7"
      }
     },
     "79dd6acb6b6343ac96f13e988bb12a13": {
      "model_module": "@jupyter-widgets/controls",
      "model_module_version": "1.5.0",
      "model_name": "FloatSliderModel",
      "state": {
       "description": "rate",
       "layout": "IPY_MODEL_0101ebe1b4ca432780b03d1416cfe731",
       "max": 0.2,
       "step": 0.01,
       "style": "IPY_MODEL_bf9653dfb22243f184496c09c0879a98",
       "value": 0.1
      }
     },
     "7ebf02243a3348f4b93cee372070487f": {
      "model_module": "@jupyter-widgets/output",
      "model_module_version": "1.0.0",
      "model_name": "OutputModel",
      "state": {
       "layout": "IPY_MODEL_fc979331934542b5867945b8ceda1a8f",
       "outputs": [
        {
         "data": {
          "image/png": "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\n",
          "text/plain": "<Figure size 432x288 with 1 Axes>"
         },
         "metadata": {
          "needs_background": "light"
         },
         "output_type": "display_data"
        }
       ]
      }
     },
     "bf9653dfb22243f184496c09c0879a98": {
      "model_module": "@jupyter-widgets/controls",
      "model_module_version": "1.5.0",
      "model_name": "SliderStyleModel",
      "state": {
       "description_width": ""
      }
     },
     "fc979331934542b5867945b8ceda1a8f": {
      "model_module": "@jupyter-widgets/base",
      "model_module_version": "1.2.0",
      "model_name": "LayoutModel",
      "state": {}
     }
    },
    "version_major": 2,
    "version_minor": 0
   }
  }
 },
 "nbformat": 4,
 "nbformat_minor": 4
}
